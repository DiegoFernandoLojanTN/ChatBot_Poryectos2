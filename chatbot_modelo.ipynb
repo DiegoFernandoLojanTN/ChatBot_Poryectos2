{
 "cells": [
  {
   "cell_type": "code",
   "execution_count": 50,
   "id": "f870592e-2d5b-4c1b-88f1-500339090001",
   "metadata": {},
   "outputs": [],
   "source": [
    "from getpass import getpass\n",
    "import os"
   ]
  },
  {
   "cell_type": "code",
   "execution_count": 51,
   "id": "fdb70372-cc56-41ee-8d2a-822f30cd2f07",
   "metadata": {},
   "outputs": [
    {
     "name": "stdin",
     "output_type": "stream",
     "text": [
      "Ingresa tu APIKEY:  ········\n"
     ]
    }
   ],
   "source": [
    "OPENAI_API_KEY = getpass('Ingresa tu APIKEY: ')\n",
    "os.environ['OPENAI_API_KEY'] = OPENAI_API_KEY"
   ]
  },
  {
   "cell_type": "code",
   "execution_count": 52,
   "id": "885366cd-7b90-49b4-8783-ac2504dcee81",
   "metadata": {},
   "outputs": [
    {
     "name": "stderr",
     "output_type": "stream",
     "text": [
      "Ignoring wrong pointing object 7 0 (offset 0)\n",
      "Ignoring wrong pointing object 9 0 (offset 0)\n",
      "Ignoring wrong pointing object 11 0 (offset 0)\n",
      "Ignoring wrong pointing object 36 0 (offset 0)\n",
      "Ignoring wrong pointing object 70 0 (offset 0)\n"
     ]
    },
    {
     "name": "stdout",
     "output_type": "stream",
     "text": [
      "Descargando documento1.pdf\n"
     ]
    },
    {
     "name": "stderr",
     "output_type": "stream",
     "text": [
      "Ignoring wrong pointing object 7 0 (offset 0)\n",
      "Ignoring wrong pointing object 30 0 (offset 0)\n",
      "Ignoring wrong pointing object 43 0 (offset 0)\n",
      "Ignoring wrong pointing object 53 0 (offset 0)\n",
      "Ignoring wrong pointing object 56 0 (offset 0)\n",
      "Ignoring wrong pointing object 92 0 (offset 0)\n",
      "Ignoring wrong pointing object 94 0 (offset 0)\n",
      "Ignoring wrong pointing object 96 0 (offset 0)\n"
     ]
    },
    {
     "name": "stdout",
     "output_type": "stream",
     "text": [
      "Descargando documento2.pdf\n",
      "Contenido de ml_papers: \n",
      "\n"
     ]
    }
   ],
   "source": [
    "import requests\n",
    "from langchain.document_loaders import PyPDFLoader\n",
    "\n",
    "urls = [\n",
    "    'https://unl.edu.ec/sites/default/files/archivo/2023-09/Guía%20para%20la%20elaboración%20de%20proyectos%20de%20investigación%20para%20titulación.pdf',\n",
    "    'https://unl.edu.ec/sites/default/files/archivo/2023-09/Guia%20Presentacion%20Informe%20Integración%20Curricular%20o%20Titulación.pdf',\n",
    "]\n",
    "\n",
    "ml_papers = []\n",
    "\n",
    "for i, url in enumerate(urls):\n",
    "    response = requests.get(url)\n",
    "    filename = f'documento{i+1}.pdf'\n",
    "    with open(filename, 'wb') as f:\n",
    "        f.write(response.content)\n",
    "        print(f'Descargando {filename}')\n",
    "\n",
    "        loader = PyPDFLoader(filename)\n",
    "        data = loader.load()\n",
    "        ml_papers.extend(data)\n",
    "\n",
    "print('Contenido de ml_papers: ')\n",
    "print()"
   ]
  },
  {
   "cell_type": "code",
   "execution_count": 53,
   "id": "f3999005-6959-4524-a1ff-05c52eb1793f",
   "metadata": {},
   "outputs": [
    {
     "data": {
      "text/plain": [
       "(list,\n",
       " 48,\n",
       " Document(page_content=' \\n4       Presentación  La formación de investigadores en las instituciones de Educación Superior es fundamental para el desarrollo del conocimiento y su aplicación en acciones para el mejoramiento de las condiciones de vida de la población. La Universidad Nacional de Loja, consciente de esta realidad y en cumplimiento de sus funciones sustantivas: Docencia, Investigación y Vinculación con la Sociedad, impulsa a que los jóvenes universitarios se inicien y dispongan de los elementos técnicos y conceptos que complementen su formación y faciliten su involucramiento en acciones de investigación según su vocación. La investigación de integración curricular o de titulación propende al desarrollo de conocimientos y destrezas investigativas orientadas a la innovación científica, tecnológica, social, humanística y artística; busca crear una cultura de investigación desde los estudiantes; por lo tanto, se requiere que el proceso sea riguroso y se inicie mediante un proyecto que determine de manera clara todos sus elementos. Esta guía contiene información necesaria para la elaboración de proyectos de investigación que se ejecutan como parte del proceso de investigación formativa de los estudiantes de grado y posgrado de la Universidad Nacional de Loja. Ha sido formulada en atención a la disposición general sexta del Reglamento de Régimen Académico de la Universidad Nacional de Loja, aprobado mediante Resolución SE-No.01-ROCS-No-04-27-01-2021. Por tal razón, se presenta esta guía con el propósito de ayudar a la adecuada estructuración del proyecto de investigación de titulación o de integración de saberes de los estudiantes de todas las modalidades, carreras y programas de la Universidad Nacional de Loja.     ', metadata={'source': 'documento1.pdf', 'page': 3}))"
      ]
     },
     "execution_count": 53,
     "metadata": {},
     "output_type": "execute_result"
    }
   ],
   "source": [
    "type(ml_papers), len(ml_papers), ml_papers[3]"
   ]
  },
  {
   "cell_type": "code",
   "execution_count": 54,
   "id": "8c46ca00-187b-4f06-929e-1c4006dfe40d",
   "metadata": {},
   "outputs": [],
   "source": [
    "from langchain.text_splitter import RecursiveCharacterTextSplitter\n",
    "\n",
    "text_splitter = RecursiveCharacterTextSplitter(\n",
    "    chunk_size=1500, \n",
    "    chunk_overlap=200,\n",
    "    length_function=len\n",
    "    )\n",
    "\n",
    "documents = text_splitter.split_documents(ml_papers)"
   ]
  },
  {
   "cell_type": "code",
   "execution_count": 55,
   "id": "ab1d961e-dd58-437e-98df-961861097d56",
   "metadata": {},
   "outputs": [
    {
     "data": {
      "text/plain": [
       "(75,\n",
       " Document(page_content='8  Deben ser coherentes con las preguntas específicas de la investigación, estar formulados con verbos en infinitivo. Se sugiere utilizar los verbos de acción de la taxonomía de Bloom (Aguirre, 2014).  5. Marco teórico Para construir el marco teórico es necesario que la información que se reúna y analice, se relacione de manera coherente entre sí y con el objeto de estudio, evitando divagar con el planteamiento de temas no vinculados directamente al objeto de investigación (Hernández-Sampieri, 2018). Se incluirá toda aquella información ya documentada que se tiene sobre el tema de estudio, realizando una sistematización del conocimiento científico en relación a la temática a estudiar, que evidencie el avance de la ciencia y los vacíos de conocimientos que orientan la investigación (Dirección de Investigación-UNL, 2021). Toda la información bibliográfica usada debe estar respaldada por sus respectivas citas, las cuales deben ser incluidas en la listas de referencias bibliográficas. Para citar en el texto se usará el apellido y el año de publicación, se recomienda hacer uso de las siguientes tres opciones para colocar las citas (Aguirre et al., 2019): a. Según Smith y Smith (2011) indica que los bosques… b. La biodiversidad del Ecuador es un recurso estratégico que hay que conservar (Añazco et al., 2011; Palacios, 2012). c. Los productos forestales no maderables son recursos que pueden aprovecharse independientemente de la madera, lo que es sustentado por López et al. (2009),', metadata={'source': 'documento1.pdf', 'page': 7}))"
      ]
     },
     "execution_count": 55,
     "metadata": {},
     "output_type": "execute_result"
    }
   ],
   "source": [
    "len(documents), documents[10]"
   ]
  },
  {
   "cell_type": "code",
   "execution_count": 56,
   "id": "a560ef88-ce40-4301-ac4f-68755645b86b",
   "metadata": {},
   "outputs": [],
   "source": [
    "from langchain_openai import OpenAIEmbeddings\n",
    "from langchain.vectorstores import Chroma\n",
    "\n",
    "embeddings = OpenAIEmbeddings(model=\"text-embedding-ada-002\") \n",
    "\n",
    "vectorstore = Chroma.from_documents(\n",
    "    documents=documents,\n",
    "    embedding=embeddings\n",
    "    )\n",
    "\n",
    "retriever = vectorstore.as_retriever(\n",
    "    search_kwargs={\"k\" : 3}\n",
    "    )"
   ]
  },
  {
   "cell_type": "code",
   "execution_count": 57,
   "id": "2b7e0844-6ebf-42a3-8111-95e15508c233",
   "metadata": {},
   "outputs": [],
   "source": [
    "from langchain_openai import ChatOpenAI\n",
    "from langchain.chains import RetrievalQA\n",
    "\n",
    "chat = ChatOpenAI(\n",
    "    openai_api_key=OPENAI_API_KEY,\n",
    "    model_name='gpt-3.5-turbo',\n",
    "    temperature=0.0\n",
    ")\n",
    "\n",
    "qa_chain = RetrievalQA.from_chain_type(\n",
    "    llm=chat,\n",
    "    chain_type=\"stuff\",\n",
    "    retriever=retriever\n",
    ")"
   ]
  },
  {
   "cell_type": "code",
   "execution_count": 58,
   "id": "494190d6-2489-48a4-b366-e78db5c7c472",
   "metadata": {},
   "outputs": [
    {
     "data": {
      "text/plain": [
       "{'query': 'Para que sirve la GUÍA PARA LA ESCRITURA Y PRESENTACIÓN DEL INFORME DEL TRABAJO DE INTEGRACIÓN CURRICULAR O DE TITULACIÓN',\n",
       " 'result': 'La GUÍA PARA LA ESCRITURA Y PRESENTACIÓN DEL INFORME DEL TRABAJO DE INTEGRACIÓN CURRICULAR O DE TITULACIÓN sirve para apoyar a la comunidad universitaria en la uniformización de la presentación de los resultados de sus trabajos de integración curricular o de titulación. Su propósito es ayudar a los estudiantes y tutores a escribir informes de manera más efectiva, mejorar sus habilidades para comunicar resultados científicos, y preparar a los estudiantes para la redacción y presentación de informes técnicos y profesionales en el ejercicio de sus labores. Además, busca apoyar la preparación de los estudiantes para la realización de publicaciones científicas y para sus estudios de postgrado.'}"
      ]
     },
     "execution_count": 58,
     "metadata": {},
     "output_type": "execute_result"
    }
   ],
   "source": [
    "query = \"Para que sirve la GUÍA PARA LA ESCRITURA Y PRESENTACIÓN DEL INFORME DEL TRABAJO DE INTEGRACIÓN CURRICULAR O DE TITULACIÓN\"\n",
    "qa_chain.invoke(query)"
   ]
  },
  {
   "cell_type": "code",
   "execution_count": 59,
   "id": "8db48091-ec64-46ba-9433-34ca0ee4d878",
   "metadata": {},
   "outputs": [
    {
     "data": {
      "text/plain": [
       "'En la sección de resultados de una investigación se exponen y describen los datos obtenidos, se interpretan y contrastan con la teoría, el estado de la cuestión y la propia investigación. Los resultados teóricos enriquecen, modifican o perfeccionan la teoría científica con nuevos conocimientos sobre el objeto y los métodos de la investigación. Los resultados deben ser claros, precisos y escritos en pretérito o participio pasado, en una secuencia lógica en el texto. Se enfatizan solo las observaciones importantes y se pueden utilizar recursos como tablas y figuras para presentar la información de manera organizada. Los resultados deben seguir el mismo orden en que fueron recogidos, colocándolos de acuerdo a los objetivos planteados y al diseño de la metodología. Las tablas deben ir numeradas, contener un título descriptivo en la parte superior y no llevar líneas innecesarias. Las notas referentes a la tabla se colocan al final de la misma.'"
      ]
     },
     "execution_count": 59,
     "metadata": {},
     "output_type": "execute_result"
    }
   ],
   "source": [
    "query = \"Que va en los resultados?\"\n",
    "qa_chain.run(query)"
   ]
  },
  {
   "cell_type": "code",
   "execution_count": null,
   "id": "47db1be6-2b43-4c65-972c-27876d91bf4b",
   "metadata": {},
   "outputs": [],
   "source": []
  }
 ],
 "metadata": {
  "kernelspec": {
   "display_name": "Python 3 (ipykernel)",
   "language": "python",
   "name": "python3"
  },
  "language_info": {
   "codemirror_mode": {
    "name": "ipython",
    "version": 3
   },
   "file_extension": ".py",
   "mimetype": "text/x-python",
   "name": "python",
   "nbconvert_exporter": "python",
   "pygments_lexer": "ipython3",
   "version": "3.11.7"
  }
 },
 "nbformat": 4,
 "nbformat_minor": 5
}
